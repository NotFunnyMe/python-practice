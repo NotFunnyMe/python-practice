{
 "cells": [
  {
   "cell_type": "code",
   "execution_count": 6,
   "metadata": {},
   "outputs": [
    {
     "name": "stdout",
     "output_type": "stream",
     "text": [
      "The list is: [1, 2, 3, 4]\n",
      "The list is: [3, 4, 5, 6]\n",
      "The common number is: [3, 4]\n"
     ]
    }
   ],
   "source": [
    "l1 = []\n",
    "n = int(input(\"Enter the number of elements in the list: \"))\n",
    "for i in range(n):\n",
    "    x = int(input(\"Enter the element: \"))\n",
    "    l1.append(x)\n",
    "print(f\"The list is: {l1}\")\n",
    "\n",
    "l2 = []\n",
    "m = int(input(\"Enter the number of elements in the list: \"))\n",
    "for j in range(m):\n",
    "    y = int(input(\"Enter the element: \"))\n",
    "    l2.append(y)\n",
    "print(f\"The list is: {l2}\")\n",
    "\n",
    "#to find common number\n",
    "common_number = []\n",
    "for i in l1:\n",
    "    for j in l2:\n",
    "        if i == j:\n",
    "            common_number.append(i)\n",
    "\n",
    "if common_number:\n",
    "    print(f\"The common number is: {common_number}\")\n",
    "else:\n",
    "    print(\"There is no common number\")\n"
   ]
  },
  {
   "cell_type": "code",
   "execution_count": 8,
   "metadata": {},
   "outputs": [
    {
     "name": "stdout",
     "output_type": "stream",
     "text": [
      "The strings are anagrams\n"
     ]
    }
   ],
   "source": [
    "str1 = input(\"Enter the string: \").lower()\n",
    "str2 = input(\"Enter the string: \").lower()\n",
    "if len(str1) != len(str2):\n",
    "    print(\"The strings are not anagrams\")\n",
    "elif len(str1) == len(str2):\n",
    "    if sorted(str1) == sorted(str2):\n",
    "        print(\"The strings are anagrams\")\n",
    "    else:    \n",
    "        print(\"The strings are not anagrams\")\n"
   ]
  },
  {
   "cell_type": "code",
   "execution_count": 10,
   "metadata": {},
   "outputs": [
    {
     "name": "stdout",
     "output_type": "stream",
     "text": [
      "the sequence is as follows: [0, 1, 1, 2, 3, 5, 8, 13, 21, 34]\n"
     ]
    }
   ],
   "source": [
    "def fibbonacci(n):\n",
    "    if n<=1:\n",
    "        return n \n",
    "    else:\n",
    "        return(fibbonacci(n-1)+fibbonacci(n-2))\n",
    "\n",
    "n = int(input(\"Enter the number of terms: \"))\n",
    "sequence = [fibbonacci(i) for i in range(n)]\n",
    "print (f\"the sequence is as follows: {sequence}\")\n",
    "\n"
   ]
  },
  {
   "cell_type": "code",
   "execution_count": 11,
   "metadata": {},
   "outputs": [
    {
     "name": "stdout",
     "output_type": "stream",
     "text": [
      "The list is: [5353, 525, 543, 989, 1331, 553, 6262, 646, 52552]\n",
      " The median of the list is: 989\n"
     ]
    }
   ],
   "source": [
    "import statistics as s\n",
    "\n",
    "l1 = []\n",
    "n = int(input(\"Enter the number of elements in the list: \"))\n",
    "for i in range(n):\n",
    "    x = int(input(\"Enter the element: \"))\n",
    "    l1.append(x)\n",
    "print(f\"The list is: {l1}\")\n",
    "\n",
    "median = s.median(l1)\n",
    "print(f\"The median of the list is: {median}\")\n"
   ]
  },
  {
   "cell_type": "code",
   "execution_count": 14,
   "metadata": {},
   "outputs": [
    {
     "name": "stdout",
     "output_type": "stream",
     "text": [
      "The list is: [2, 3, 4, 2, 1]\n",
      "The list is not sorted in decreasing order\n"
     ]
    }
   ],
   "source": [
    "l1 = []\n",
    "n = int(input(\"Enter the number of elements in the list: \"))\n",
    "for i in range(n):\n",
    "    x = int(input(\"Enter the element: \"))\n",
    "    l1.append(x)\n",
    "print(f\"The list is: {l1}\")\n",
    "\n",
    "\n",
    "l2 = sorted(l1, reverse = True)\n",
    "if l1 == l2:\n",
    "    print(\"The list is sorted in decreasing order\")\n",
    "else:\n",
    "    print(\"The list is not sorted in decreasing order\")"
   ]
  },
  {
   "cell_type": "code",
   "execution_count": 5,
   "metadata": {},
   "outputs": [
    {
     "name": "stdout",
     "output_type": "stream",
     "text": [
      "tr js dkh h slhhrjvsjvfjwvfwfkwvjcgw\n"
     ]
    }
   ],
   "source": [
    "string = input(\"Enter the string: \")\n",
    "vowels = 'aeiouAEIOU'\n",
    "vowel_found = False\n",
    "string_without_vowels = \"\"\n",
    "\n",
    "for char in string:\n",
    "    if char not in vowels:\n",
    "        string_without_vowels += char\n",
    "print(string_without_vowels)\n",
    "        \n",
    "\n"
   ]
  },
  {
   "cell_type": "code",
   "execution_count": 6,
   "metadata": {},
   "outputs": [
    {
     "name": "stdout",
     "output_type": "stream",
     "text": [
      "eret\n"
     ]
    }
   ],
   "source": [
    "string = input(\"Enter the string: \")\n",
    "a = string[::-1]\n",
    "print(a)"
   ]
  },
  {
   "cell_type": "code",
   "execution_count": 3,
   "metadata": {},
   "outputs": [
    {
     "name": "stdout",
     "output_type": "stream",
     "text": [
      "4\n",
      "7\n",
      "12\n"
     ]
    }
   ],
   "source": [
    "no = input(\"Enter the number: \")\n",
    "sum = 0\n",
    "for i in no:\n",
    "    sum += int(i)\n",
    "print(sum)"
   ]
  }
 ],
 "metadata": {
  "kernelspec": {
   "display_name": "base",
   "language": "python",
   "name": "python3"
  },
  "language_info": {
   "codemirror_mode": {
    "name": "ipython",
    "version": 3
   },
   "file_extension": ".py",
   "mimetype": "text/x-python",
   "name": "python",
   "nbconvert_exporter": "python",
   "pygments_lexer": "ipython3",
   "version": "3.11.5"
  }
 },
 "nbformat": 4,
 "nbformat_minor": 2
}
