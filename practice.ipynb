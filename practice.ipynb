{
 "cells": [
  {
   "cell_type": "code",
   "execution_count": 29,
   "metadata": {},
   "outputs": [
    {
     "ename": "ValueError",
     "evalue": "invalid literal for int() with base 10: ''",
     "output_type": "error",
     "traceback": [
      "\u001b[0;31m---------------------------------------------------------------------------\u001b[0m",
      "\u001b[0;31mValueError\u001b[0m                                Traceback (most recent call last)",
      "Cell \u001b[0;32mIn[29], line 2\u001b[0m\n\u001b[1;32m      1\u001b[0m l1 \u001b[38;5;241m=\u001b[39m []\n\u001b[0;32m----> 2\u001b[0m n \u001b[38;5;241m=\u001b[39m \u001b[38;5;28mint\u001b[39m(\u001b[38;5;28minput\u001b[39m(\u001b[38;5;124m\"\u001b[39m\u001b[38;5;124mEnter the number of elements in the list: \u001b[39m\u001b[38;5;124m\"\u001b[39m))\n\u001b[1;32m      3\u001b[0m \u001b[38;5;28;01mfor\u001b[39;00m i \u001b[38;5;129;01min\u001b[39;00m \u001b[38;5;28mrange\u001b[39m(n):\n\u001b[1;32m      4\u001b[0m     x \u001b[38;5;241m=\u001b[39m \u001b[38;5;28mint\u001b[39m(\u001b[38;5;28minput\u001b[39m(\u001b[38;5;124m\"\u001b[39m\u001b[38;5;124mEnter the element: \u001b[39m\u001b[38;5;124m\"\u001b[39m))\n",
      "\u001b[0;31mValueError\u001b[0m: invalid literal for int() with base 10: ''"
     ]
    }
   ],
   "source": [
    "l1 = []\n",
    "n = int(input(\"Enter the number of elements in the list: \"))\n",
    "for i in range(n):\n",
    "    x = int(input(\"Enter the element: \"))\n",
    "    l1.append(x)\n",
    "print(f\"The list is: {l1}\")\n",
    "\n",
    "l2 = []\n",
    "m = int(input(\"Enter the number of elements in the list: \"))\n",
    "for j in range(m):\n",
    "    y = int(input(\"Enter the element: \"))\n",
    "    l2.append(y)\n",
    "print(f\"The list is: {l2}\")\n",
    "\n",
    "#to find common number\n",
    "common_number = []\n",
    "for i in l1:\n",
    "    for j in l2:\n",
    "        if i == j:\n",
    "            common_number.append(i)\n",
    "\n",
    "if common_number:\n",
    "    print(f\"The common number is: {common_number}\")\n",
    "else:\n",
    "    print(\"There is no common number\")\n"
   ]
  },
  {
   "cell_type": "markdown",
   "metadata": {},
   "source": []
  },
  {
   "cell_type": "code",
   "execution_count": null,
   "metadata": {},
   "outputs": [
    {
     "name": "stdout",
     "output_type": "stream",
     "text": [
      "The strings are anagrams\n"
     ]
    }
   ],
   "source": [
    "str1 = input(\"Enter the string: \").lower()\n",
    "str2 = input(\"Enter the string: \").lower()\n",
    "if len(str1) != len(str2):\n",
    "    print(\"The strings are not anagrams\")\n",
    "elif len(str1) == len(str2):\n",
    "    if sorted(str1) == sorted(str2):\n",
    "        print(\"The strings are anagrams\")\n",
    "    else:    \n",
    "        print(\"The strings are not anagrams\")\n"
   ]
  },
  {
   "cell_type": "code",
   "execution_count": null,
   "metadata": {},
   "outputs": [
    {
     "name": "stdout",
     "output_type": "stream",
     "text": [
      "the sequence is as follows: [0, 1, 1, 2, 3, 5, 8, 13, 21, 34]\n"
     ]
    }
   ],
   "source": [
    "def fibbonacci(n):\n",
    "    if n<=1:\n",
    "        return n \n",
    "    else:\n",
    "        return(fibbonacci(n-1)+fibbonacci(n-2))\n",
    "\n",
    "n = int(input(\"Enter the number of terms: \"))\n",
    "sequence = [fibbonacci(i) for i in range(n)]\n",
    "print (f\"the sequence is as follows: {sequence}\")\n",
    "\n"
   ]
  },
  {
   "cell_type": "code",
   "execution_count": null,
   "metadata": {},
   "outputs": [
    {
     "name": "stdout",
     "output_type": "stream",
     "text": [
      "The list is: [5353, 525, 543, 989, 1331, 553, 6262, 646, 52552]\n",
      " The median of the list is: 989\n"
     ]
    }
   ],
   "source": [
    "import statistics as s\n",
    "\n",
    "l1 = []\n",
    "n = int(input(\"Enter the number of elements in the list: \"))\n",
    "for i in range(n):\n",
    "    x = int(input(\"Enter the element: \"))\n",
    "    l1.append(x)\n",
    "print(f\"The list is: {l1}\")\n",
    "\n",
    "median = s.median(l1)\n",
    "print(f\"The median of the list is: {median}\")\n"
   ]
  },
  {
   "cell_type": "code",
   "execution_count": null,
   "metadata": {},
   "outputs": [
    {
     "name": "stdout",
     "output_type": "stream",
     "text": [
      "The list is: [2, 3, 4, 2, 1]\n",
      "The list is not sorted in decreasing order\n"
     ]
    }
   ],
   "source": [
    "l1 = []\n",
    "n = int(input(\"Enter the number of elements in the list: \"))\n",
    "for i in range(n):\n",
    "    x = int(input(\"Enter the element: \"))\n",
    "    l1.append(x)\n",
    "print(f\"The list is: {l1}\")\n",
    "\n",
    "\n",
    "l2 = sorted(l1, reverse = True)\n",
    "if l1 == l2:\n",
    "    print(\"The list is sorted in decreasing order\")\n",
    "else:\n",
    "    print(\"The list is not sorted in decreasing order\")"
   ]
  },
  {
   "cell_type": "code",
   "execution_count": null,
   "metadata": {},
   "outputs": [
    {
     "name": "stdout",
     "output_type": "stream",
     "text": [
      "tr js dkh h slhhrjvsjvfjwvfwfkwvjcgw\n"
     ]
    }
   ],
   "source": [
    "string = input(\"Enter the string: \")\n",
    "vowels = 'aeiouAEIOU'\n",
    "vowel_found = False\n",
    "string_without_vowels = \"\"\n",
    "\n",
    "for char in string:\n",
    "    if char not in vowels:\n",
    "        string_without_vowels += char\n",
    "print(string_without_vowels)\n",
    "        \n",
    "\n"
   ]
  },
  {
   "cell_type": "code",
   "execution_count": null,
   "metadata": {},
   "outputs": [
    {
     "name": "stdout",
     "output_type": "stream",
     "text": [
      "eret\n"
     ]
    }
   ],
   "source": [
    "string = input(\"Enter the string: \")\n",
    "a = string[::-1]\n",
    "print(a)"
   ]
  },
  {
   "cell_type": "code",
   "execution_count": null,
   "metadata": {},
   "outputs": [
    {
     "name": "stdout",
     "output_type": "stream",
     "text": [
      "4\n",
      "7\n",
      "12\n"
     ]
    }
   ],
   "source": [
    "no = input(\"Enter the number: \")\n",
    "sum = 0\n",
    "for i in no:\n",
    "    sum += int(i)\n",
    "print(sum)"
   ]
  },
  {
   "cell_type": "markdown",
   "metadata": {},
   "source": [
    "dictionary"
   ]
  },
  {
   "cell_type": "code",
   "execution_count": null,
   "metadata": {},
   "outputs": [
    {
     "name": "stdout",
     "output_type": "stream",
     "text": [
      "you are succesfully logged in\n"
     ]
    }
   ],
   "source": [
    "username = input(\"Enter the username : \")\n",
    "password = input(\"Enter the password : \")\n",
    "dict = {\"user1\":\"user1\",\"user2\":\"user2\",\"user3\":\"user3\",\"user4\":\"user4\"}\n",
    "if username in dict and dict[username] == password:\n",
    "    print(\"you are succesfully logged in\")\n",
    "else:\n",
    "    print(\"Failed to login\")"
   ]
  },
  {
   "cell_type": "code",
   "execution_count": null,
   "metadata": {},
   "outputs": [
    {
     "name": "stdout",
     "output_type": "stream",
     "text": [
      "{'h': 1, 'e': 1, 'l': 2, 'o': 1}\n"
     ]
    }
   ],
   "source": [
    "a = input(\"Enter the string : \")\n",
    "dict = {}\n",
    "for i in a:\n",
    "    dict[i] = a.count(i)\n",
    "print(dict)"
   ]
  },
  {
   "cell_type": "code",
   "execution_count": 40,
   "metadata": {},
   "outputs": [
    {
     "name": "stdout",
     "output_type": "stream",
     "text": [
      "sharma\n"
     ]
    }
   ],
   "source": [
    "user = {\"rahul\":[\"1401\",\"sharma\"],\n",
    "        \"vijay\":[\"1111\",\"sharma\"],\n",
    "        \"tanjiron\":[\"0712\",\"san\"],\n",
    "        \"marin\":[\"0101\",\"kitagava\"]}\n",
    "name = input(\"enter the name : \")\n",
    "choice = int(input(\"enter the choice 1 for dob and 2 for name : \"))\n",
    "if choice == 1:\n",
    "    print(user[name][0])\n",
    "if choice == 2:\n",
    "    print(user[name][1])\n",
    "        \n",
    "\n",
    "\n"
   ]
  }
 ],
 "metadata": {
  "kernelspec": {
   "display_name": "base",
   "language": "python",
   "name": "python3"
  },
  "language_info": {
   "codemirror_mode": {
    "name": "ipython",
    "version": 3
   },
   "file_extension": ".py",
   "mimetype": "text/x-python",
   "name": "python",
   "nbconvert_exporter": "python",
   "pygments_lexer": "ipython3",
   "version": "3.11.5"
  }
 },
 "nbformat": 4,
 "nbformat_minor": 2
}
