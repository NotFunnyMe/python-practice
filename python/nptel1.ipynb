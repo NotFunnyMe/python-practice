{
 "cells": [
  {
   "cell_type": "markdown",
   "metadata": {},
   "source": [
    "sequence of command"
   ]
  },
  {
   "cell_type": "code",
   "execution_count": 1,
   "metadata": {},
   "outputs": [
    {
     "name": "stdout",
     "output_type": "stream",
     "text": [
      "1\n",
      "2\n",
      "3\n",
      "4\n",
      "5\n",
      "6\n"
     ]
    }
   ],
   "source": [
    "a=1;print(a);a=a+1;print(a);a=a+1;print(a);a=a+1;print(a);a=a+1;print(a);a=a+1;print(a)"
   ]
  },
  {
   "cell_type": "code",
   "execution_count": 3,
   "metadata": {},
   "outputs": [
    {
     "name": "stdout",
     "output_type": "stream",
     "text": [
      "90.0\n"
     ]
    }
   ],
   "source": [
    "a=int(input(\"what is the cost = \"))\n",
    "b=a*(10/100)\n",
    "a=a-b\n",
    "print(\"the discounted price is = \",a)\n"
   ]
  },
  {
   "cell_type": "markdown",
   "metadata": {},
   "source": [
    "condinional statement"
   ]
  },
  {
   "cell_type": "code",
   "execution_count": 1,
   "metadata": {},
   "outputs": [
    {
     "name": "stdout",
     "output_type": "stream",
     "text": [
      "two\n"
     ]
    }
   ],
   "source": [
    "d=int(input(\"enter the number\"))\n",
    "if(d==1):\n",
    "    print(\"one\")\n",
    "if(d==2):\n",
    "    print(\"two\")    "
   ]
  },
  {
   "cell_type": "markdown",
   "metadata": {},
   "source": [
    "loops\n",
    "for i in range(10)means\n",
    "i is a variable and 10 means assign 0 to till 9 values to i "
   ]
  },
  {
   "cell_type": "code",
   "execution_count": 4,
   "metadata": {},
   "outputs": [
    {
     "name": "stdout",
     "output_type": "stream",
     "text": [
      "0\n",
      "hello how are you all 0\n",
      "1\n",
      "hello how are you all 1\n",
      "2\n",
      "hello how are you all 2\n",
      "3\n",
      "hello how are you all 3\n",
      "4\n",
      "hello how are you all 4\n",
      "5\n",
      "hello how are you all 5\n",
      "6\n",
      "hello how are you all 6\n",
      "7\n",
      "hello how are you all 7\n",
      "8\n",
      "hello how are you all 8\n",
      "9\n",
      "hello how are you all 9\n",
      "10\n",
      "hello how are you all 10\n",
      "11\n",
      "hello how are you all 11\n",
      "12\n",
      "hello how are you all 12\n",
      "13\n",
      "hello how are you all 13\n",
      "14\n",
      "hello how are you all 14\n",
      "15\n",
      "hello how are you all 15\n",
      "16\n",
      "hello how are you all 16\n",
      "17\n",
      "hello how are you all 17\n",
      "18\n",
      "hello how are you all 18\n",
      "19\n",
      "hello how are you all 19\n",
      "20\n",
      "hello how are you all 20\n",
      "21\n",
      "hello how are you all 21\n",
      "22\n",
      "hello how are you all 22\n",
      "23\n",
      "hello how are you all 23\n",
      "24\n",
      "hello how are you all 24\n",
      "25\n",
      "hello how are you all 25\n",
      "26\n",
      "hello how are you all 26\n",
      "27\n",
      "hello how are you all 27\n",
      "28\n",
      "hello how are you all 28\n",
      "29\n",
      "hello how are you all 29\n",
      "30\n",
      "hello how are you all 30\n",
      "31\n",
      "hello how are you all 31\n",
      "32\n",
      "hello how are you all 32\n",
      "33\n",
      "hello how are you all 33\n",
      "34\n",
      "hello how are you all 34\n",
      "35\n",
      "hello how are you all 35\n",
      "36\n",
      "hello how are you all 36\n",
      "37\n",
      "hello how are you all 37\n",
      "38\n",
      "hello how are you all 38\n",
      "39\n",
      "hello how are you all 39\n",
      "40\n",
      "hello how are you all 40\n",
      "41\n",
      "hello how are you all 41\n",
      "42\n",
      "hello how are you all 42\n",
      "43\n",
      "hello how are you all 43\n",
      "44\n",
      "hello how are you all 44\n",
      "45\n",
      "hello how are you all 45\n",
      "46\n",
      "hello how are you all 46\n",
      "47\n",
      "hello how are you all 47\n",
      "48\n",
      "hello how are you all 48\n",
      "49\n",
      "hello how are you all 49\n",
      "50\n",
      "hello how are you all 50\n",
      "51\n",
      "hello how are you all 51\n",
      "52\n",
      "hello how are you all 52\n",
      "53\n",
      "hello how are you all 53\n",
      "54\n",
      "hello how are you all 54\n",
      "55\n",
      "hello how are you all 55\n",
      "56\n",
      "hello how are you all 56\n",
      "57\n",
      "hello how are you all 57\n",
      "58\n",
      "hello how are you all 58\n",
      "59\n",
      "hello how are you all 59\n",
      "60\n",
      "hello how are you all 60\n",
      "61\n",
      "hello how are you all 61\n",
      "62\n",
      "hello how are you all 62\n",
      "63\n",
      "hello how are you all 63\n",
      "64\n",
      "hello how are you all 64\n",
      "65\n",
      "hello how are you all 65\n",
      "66\n",
      "hello how are you all 66\n",
      "67\n",
      "hello how are you all 67\n",
      "68\n",
      "hello how are you all 68\n",
      "69\n",
      "hello how are you all 69\n",
      "70\n",
      "hello how are you all 70\n",
      "71\n",
      "hello how are you all 71\n",
      "72\n",
      "hello how are you all 72\n",
      "73\n",
      "hello how are you all 73\n",
      "74\n",
      "hello how are you all 74\n",
      "75\n",
      "hello how are you all 75\n",
      "76\n",
      "hello how are you all 76\n",
      "77\n",
      "hello how are you all 77\n",
      "78\n",
      "hello how are you all 78\n",
      "79\n",
      "hello how are you all 79\n",
      "80\n",
      "hello how are you all 80\n",
      "81\n",
      "hello how are you all 81\n",
      "82\n",
      "hello how are you all 82\n",
      "83\n",
      "hello how are you all 83\n",
      "84\n",
      "hello how are you all 84\n",
      "85\n",
      "hello how are you all 85\n",
      "86\n",
      "hello how are you all 86\n",
      "87\n",
      "hello how are you all 87\n",
      "88\n",
      "hello how are you all 88\n",
      "89\n",
      "hello how are you all 89\n",
      "90\n",
      "hello how are you all 90\n",
      "91\n",
      "hello how are you all 91\n",
      "92\n",
      "hello how are you all 92\n",
      "93\n",
      "hello how are you all 93\n",
      "94\n",
      "hello how are you all 94\n",
      "95\n",
      "hello how are you all 95\n",
      "96\n",
      "hello how are you all 96\n",
      "97\n",
      "hello how are you all 97\n",
      "98\n",
      "hello how are you all 98\n",
      "99\n",
      "hello how are you all 99\n"
     ]
    }
   ],
   "source": [
    "for i in range(100):\n",
    "    print(i)\n",
    "    print(\"hello how are you all\",i)"
   ]
  },
  {
   "cell_type": "code",
   "execution_count": 10,
   "metadata": {},
   "outputs": [
    {
     "name": "stdout",
     "output_type": "stream",
     "text": [
      "5050\n"
     ]
    }
   ],
   "source": [
    "a=0\n",
    "for i in range(101):\n",
    "    a=a+i\n",
    "print(a)"
   ]
  },
  {
   "cell_type": "code",
   "execution_count": 1,
   "metadata": {},
   "outputs": [
    {
     "name": "stdout",
     "output_type": "stream",
     "text": [
      "20 * 0 = 0\n",
      "20 * 1 = 20\n",
      "20 * 2 = 40\n",
      "20 * 3 = 60\n",
      "20 * 4 = 80\n",
      "20 * 5 = 100\n",
      "20 * 6 = 120\n",
      "20 * 7 = 140\n",
      "20 * 8 = 160\n",
      "20 * 9 = 180\n",
      "20 * 10 = 200\n"
     ]
    }
   ],
   "source": [
    "a=int(input(\"enter the number whose table you want to display\"))\n",
    "for i in range(11):\n",
    "    print(a,\"*\",i,\"=\",a*i)"
   ]
  },
  {
   "cell_type": "code",
   "execution_count": 4,
   "metadata": {},
   "outputs": [
    {
     "name": "stdout",
     "output_type": "stream",
     "text": [
      "token number 1 come in\n",
      "token number 2 come in\n",
      "token number 3 come in\n",
      "token number 4 come in\n",
      "token number 5 come in\n",
      "token number 6 come in\n",
      "token number 7 come in\n",
      "token number 8 come in\n",
      "token number 9 come in\n",
      "token number 10 come in\n",
      "token number 11 come in\n",
      "token number 12 come in\n",
      "token number 13 come in\n",
      "token number 14 come in\n",
      "token number 15 come in\n",
      "token number 16 come in\n",
      "token number 17 come in\n",
      "token number 18 come in\n",
      "token number 19 come in\n"
     ]
    },
    {
     "ename": "ValueError",
     "evalue": "invalid literal for int() with base 10: ''",
     "output_type": "error",
     "traceback": [
      "\u001b[0;31m---------------------------------------------------------------------------\u001b[0m",
      "\u001b[0;31mValueError\u001b[0m                                Traceback (most recent call last)",
      "Cell \u001b[0;32mIn[4], line 5\u001b[0m\n\u001b[1;32m      3\u001b[0m \u001b[38;5;28;01mwhile\u001b[39;00m(c\u001b[38;5;241m==\u001b[39m\u001b[38;5;241m1\u001b[39m):\n\u001b[1;32m      4\u001b[0m     \u001b[38;5;28mprint\u001b[39m(\u001b[38;5;124m\"\u001b[39m\u001b[38;5;124mtoken number\u001b[39m\u001b[38;5;124m\"\u001b[39m,n,\u001b[38;5;124m\"\u001b[39m\u001b[38;5;124mcome in\u001b[39m\u001b[38;5;124m\"\u001b[39m)\n\u001b[0;32m----> 5\u001b[0m     c\u001b[38;5;241m=\u001b[39m\u001b[38;5;28;43mint\u001b[39;49m\u001b[43m(\u001b[49m\u001b[38;5;28;43minput\u001b[39;49m\u001b[43m(\u001b[49m\u001b[38;5;124;43m\"\u001b[39;49m\u001b[38;5;124;43mcontinue?(0/1)\u001b[39;49m\u001b[38;5;124;43m\"\u001b[39;49m\u001b[43m)\u001b[49m\u001b[43m)\u001b[49m\n\u001b[1;32m      6\u001b[0m     n\u001b[38;5;241m+\u001b[39m\u001b[38;5;241m=\u001b[39m\u001b[38;5;241m1\u001b[39m\n\u001b[1;32m      7\u001b[0m \u001b[38;5;28mprint\u001b[39m(\u001b[38;5;124m\"\u001b[39m\u001b[38;5;124mthank you\u001b[39m\u001b[38;5;124m\"\u001b[39m)\n",
      "\u001b[0;31mValueError\u001b[0m: invalid literal for int() with base 10: ''"
     ]
    }
   ],
   "source": [
    "c=1\n",
    "n=1\n",
    "while(c==1):\n",
    "    print(\"token number\",n,\"come in\")\n",
    "    c=int(input(\"continue?(0/1)\"))\n",
    "    n+=1\n",
    "print(\"thank you\")"
   ]
  },
  {
   "cell_type": "markdown",
   "metadata": {},
   "source": [
    "list\n"
   ]
  },
  {
   "cell_type": "code",
   "execution_count": 1,
   "metadata": {},
   "outputs": [
    {
     "name": "stdout",
     "output_type": "stream",
     "text": [
      "['bread', 'coffee', 'tea']\n",
      "0\n",
      "1\n",
      "2\n",
      "bread\n",
      "coffee\n",
      "tea\n",
      "['bread', 'coffee', 'tea', 'Curd']\n",
      "bread\n",
      "coffee\n",
      "tea\n",
      "Curd\n",
      "bread\n",
      "coffee\n",
      "tea\n",
      "Curd\n",
      "bread\n",
      "oil\n",
      "coffee\n",
      "tea\n",
      "Curd\n",
      "butter\n"
     ]
    }
   ],
   "source": [
    "shopping=[\"bread\",\"coffee\",\"tea\"]\n",
    "print(shopping)\n",
    "for i in range(3):\n",
    "    print(i)\n",
    "for item in shopping:\n",
    "    print(item)\n",
    "shopping.append(\"Curd\") #append\n",
    "print(shopping)\n",
    "shopping[1] #index\n",
    "shopping[0]\n",
    "for i in range(4):\n",
    "    print(shopping[i])\n",
    "for item in shopping:\n",
    "    print(item)\n",
    "shopping.append(\"butter\")\n",
    "shopping.insert(1,\"oil\")    #insert\n",
    "for item in shopping:\n",
    "    print(item)\n",
    "\n"
   ]
  },
  {
   "cell_type": "code",
   "execution_count": 8,
   "metadata": {},
   "outputs": [
    {
     "name": "stdout",
     "output_type": "stream",
     "text": [
      "12\n",
      "32\n",
      "43\n",
      "54\n",
      "65\n",
      "34\n",
      "23\n",
      "67\n",
      "876\n",
      "3\n",
      "2\n",
      "566\n",
      "343\n",
      "443\n",
      "4\n",
      "3\n",
      "12\n",
      "34\n",
      "4\n",
      "2\n",
      "34\n",
      "[2, 2, 3, 3, 4, 4, 12, 12, 23, 32, 34, 34, 34, 43, 54, 65, 67, 343, 443, 566, 876]\n",
      "[876, 566, 443, 343, 67, 65, 54, 43, 34, 34, 34, 32, 23, 12, 12, 4, 4, 3, 3, 2, 2]\n"
     ]
    }
   ],
   "source": [
    "ages=[12,32,43,54,65,34,23,67,876,3,2,566,343,443,4,3,12,34,4,2,34]\n",
    "ages.count(12)  #count\n",
    "ages.count(0)\n",
    "len(ages)   #length\n",
    "for i in range(len(ages)):\n",
    "    print(ages[i])\n",
    "ages.sort()   #sort\n",
    "print(ages)\n",
    "ages.reverse()  #reverse\n",
    "print(ages)\n",
    "\n"
   ]
  },
  {
   "cell_type": "code",
   "execution_count": 8,
   "metadata": {},
   "outputs": [
    {
     "name": "stdout",
     "output_type": "stream",
     "text": [
      "1\n",
      "2\n",
      "3 = buzz\n",
      "4\n",
      "5 = Fizz\n",
      "6 = buzz\n",
      "7\n",
      "8\n",
      "9 = buzz\n",
      "10 = Fizz\n",
      "11\n",
      "12 = buzz\n",
      "13\n",
      "14\n",
      "15 = FizzBuzz\n",
      "16\n",
      "17\n",
      "18 = buzz\n",
      "19\n",
      "20 = Fizz\n",
      "21 = buzz\n",
      "22\n",
      "23\n",
      "24 = buzz\n",
      "25 = Fizz\n",
      "26\n",
      "27 = buzz\n",
      "28\n",
      "29\n",
      "30 = FizzBuzz\n",
      "31\n",
      "32\n",
      "33 = buzz\n",
      "34\n",
      "35 = Fizz\n",
      "36 = buzz\n",
      "37\n",
      "38\n",
      "39 = buzz\n",
      "40 = Fizz\n",
      "41\n",
      "42 = buzz\n",
      "43\n",
      "44\n",
      "45 = FizzBuzz\n",
      "46\n",
      "47\n",
      "48 = buzz\n",
      "49\n",
      "50 = Fizz\n",
      "51 = buzz\n",
      "52\n",
      "53\n",
      "54 = buzz\n",
      "55 = Fizz\n",
      "56\n",
      "57 = buzz\n",
      "58\n",
      "59\n",
      "60 = FizzBuzz\n",
      "61\n",
      "62\n",
      "63 = buzz\n",
      "64\n",
      "65 = Fizz\n",
      "66 = buzz\n",
      "67\n",
      "68\n",
      "69 = buzz\n",
      "70 = Fizz\n",
      "71\n",
      "72 = buzz\n",
      "73\n",
      "74\n",
      "75 = FizzBuzz\n",
      "76\n",
      "77\n",
      "78 = buzz\n",
      "79\n",
      "80 = Fizz\n",
      "81 = buzz\n",
      "82\n",
      "83\n",
      "84 = buzz\n",
      "85 = Fizz\n",
      "86\n",
      "87 = buzz\n",
      "88\n",
      "89\n",
      "90 = FizzBuzz\n",
      "91\n",
      "92\n",
      "93 = buzz\n",
      "94\n",
      "95 = Fizz\n",
      "96 = buzz\n",
      "97\n",
      "98\n",
      "99 = buzz\n",
      "100 = Fizz\n"
     ]
    }
   ],
   "source": [
    "def FizzBuzz(n):\n",
    "    for i in range(1,n+1):\n",
    "        if (i % 3==0 and i % 5==0):\n",
    "            print(str(i)+\" = FizzBuzz\")\n",
    "        elif (i % 5==0):\n",
    "            print(str(i)+\" = Fizz\")\n",
    "        elif (i % 3==0):\n",
    "            print(str(i)+\" = buzz\")\n",
    "        else:\n",
    "            print(str(i))\n",
    "\n",
    "FizzBuzz(100)\n",
    "\n"
   ]
  },
  {
   "cell_type": "code",
   "execution_count": 9,
   "metadata": {},
   "outputs": [
    {
     "name": "stdout",
     "output_type": "stream",
     "text": [
      "['Arun', 'Bhavesh', 'Chetan', 'Dhruv', 'Eshaan', 'Faisal', 'Gaurav', 'Himanshu', 'Ishan', 'Jatin']\n"
     ]
    }
   ],
   "source": [
    "students=[\"Arun\",\"Bhavesh\",\"Chetan\",\"Dhruv\",\"Eshaan\",\"Faisal\",\"Gaurav\",\"Himanshu\",\"Ishan\",\"Jatin\"]\n",
    "students.sort()\n",
    "print(students)\n",
    "students.insert(0,\"joc\")\n"
   ]
  },
  {
   "cell_type": "markdown",
   "metadata": {},
   "source": [
    "slicing listname[start:end+1]\n",
    "default\n",
    "start=0\n",
    "end=len(list)"
   ]
  },
  {
   "cell_type": "code",
   "execution_count": 6,
   "metadata": {},
   "outputs": [
    {
     "data": {
      "text/plain": [
       "['Arun',\n",
       " 'Bhavesh',\n",
       " 'Chetan',\n",
       " 'Dhruv',\n",
       " 'Eshaan',\n",
       " 'Faisal',\n",
       " 'Gaurav',\n",
       " 'Himanshu',\n",
       " 'Ishan']"
      ]
     },
     "execution_count": 6,
     "metadata": {},
     "output_type": "execute_result"
    }
   ],
   "source": [
    "students=[\"Arun\",\"Bhavesh\",\"Chetan\",\"Dhruv\",\"Eshaan\",\"Faisal\",\"Gaurav\",\"Himanshu\",\"Ishan\",\"Jatin\"]\n",
    "students[1:5]\n",
    "students[:]\n",
    "students[3:]\n",
    "students[:5]\n",
    "students[:-1]"
   ]
  },
  {
   "cell_type": "code",
   "execution_count": 1,
   "metadata": {},
   "outputs": [
    {
     "ename": "ModuleNotFoundError",
     "evalue": "No module named 'scipy'",
     "output_type": "error",
     "traceback": [
      "\u001b[0;31m---------------------------------------------------------------------------\u001b[0m",
      "\u001b[0;31mModuleNotFoundError\u001b[0m                       Traceback (most recent call last)",
      "Cell \u001b[0;32mIn[1], line 2\u001b[0m\n\u001b[1;32m      1\u001b[0m \u001b[38;5;28;01mfrom\u001b[39;00m \u001b[38;5;21;01mstatistics\u001b[39;00m \u001b[38;5;28;01mimport\u001b[39;00m mean\n\u001b[0;32m----> 2\u001b[0m \u001b[38;5;28;01mfrom\u001b[39;00m \u001b[38;5;21;01mscipy\u001b[39;00m \u001b[38;5;28;01mimport\u001b[39;00m stats\n\u001b[1;32m      3\u001b[0m Estimate \u001b[38;5;241m=\u001b[39m [\u001b[38;5;241m233\u001b[39m,\u001b[38;5;241m322\u001b[39m,\u001b[38;5;241m433\u001b[39m,\u001b[38;5;241m432\u001b[39m,\u001b[38;5;241m269\u001b[39m, \u001b[38;5;241m567\u001b[39m, \u001b[38;5;241m337\u001b[39m, \u001b[38;5;241m730\u001b[39m, \u001b[38;5;241m422\u001b[39m, \u001b[38;5;241m781\u001b[39m, \u001b[38;5;241m649\u001b[39m, \u001b[38;5;241m774\u001b[39m, \u001b[38;5;241m819\u001b[39m, \u001b[38;5;241m406\u001b[39m, \u001b[38;5;241m956\u001b[39m, \u001b[38;5;241m727\u001b[39m, \u001b[38;5;241m699\u001b[39m, \u001b[38;5;241m260\u001b[39m, \u001b[38;5;241m807\u001b[39m, \u001b[38;5;241m853\u001b[39m, \u001b[38;5;241m935\u001b[39m, \u001b[38;5;241m361\u001b[39m, \u001b[38;5;241m183\u001b[39m, \u001b[38;5;241m971\u001b[39m, \u001b[38;5;241m394\u001b[39m, \u001b[38;5;241m420\u001b[39m, \u001b[38;5;241m191\u001b[39m, \u001b[38;5;241m726\u001b[39m, \u001b[38;5;241m490\u001b[39m, \u001b[38;5;241m835\u001b[39m, \u001b[38;5;241m640\u001b[39m, \u001b[38;5;241m550\u001b[39m, \u001b[38;5;241m544\u001b[39m, \u001b[38;5;241m638\u001b[39m, \u001b[38;5;241m366\u001b[39m, \u001b[38;5;241m329\u001b[39m, \u001b[38;5;241m872\u001b[39m, \u001b[38;5;241m525\u001b[39m, \u001b[38;5;241m582\u001b[39m, \u001b[38;5;241m171\u001b[39m, \u001b[38;5;241m767\u001b[39m, \u001b[38;5;241m583\u001b[39m, \u001b[38;5;241m781\u001b[39m, \u001b[38;5;241m878\u001b[39m, \u001b[38;5;241m422\u001b[39m, \u001b[38;5;241m444\u001b[39m, \u001b[38;5;241m332\u001b[39m, \u001b[38;5;241m826\u001b[39m, \u001b[38;5;241m131\u001b[39m, \u001b[38;5;241m932\u001b[39m, \u001b[38;5;241m372\u001b[39m, \u001b[38;5;241m379\u001b[39m, \u001b[38;5;241m918\u001b[39m, \u001b[38;5;241m832\u001b[39m]\n\u001b[1;32m      4\u001b[0m Estimate\u001b[38;5;241m.\u001b[39msort()\n",
      "\u001b[0;31mModuleNotFoundError\u001b[0m: No module named 'scipy'"
     ]
    }
   ],
   "source": []
  }
 ],
 "metadata": {
  "kernelspec": {
   "display_name": "Python 3",
   "language": "python",
   "name": "python3"
  },
  "language_info": {
   "codemirror_mode": {
    "name": "ipython",
    "version": 3
   },
   "file_extension": ".py",
   "mimetype": "text/x-python",
   "name": "python",
   "nbconvert_exporter": "python",
   "pygments_lexer": "ipython3",
   "version": "3.11.5"
  }
 },
 "nbformat": 4,
 "nbformat_minor": 2
}
