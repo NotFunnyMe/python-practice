{
 "cells": [
  {
   "cell_type": "code",
   "execution_count": 1,
   "metadata": {},
   "outputs": [
    {
     "name": "stdout",
     "output_type": "stream",
     "text": [
      "The number is odd\n"
     ]
    }
   ],
   "source": [
    "a = int(input(\"Enter a number: \"))\n",
    "if a%2==0:\n",
    "    print(\"The number is even\") \n",
    "else:\n",
    "    print(\"The number is odd\")"
   ]
  },
  {
   "cell_type": "code",
   "execution_count": 8,
   "metadata": {},
   "outputs": [
    {
     "name": "stdout",
     "output_type": "stream",
     "text": [
      "h\n",
      "e\n",
      "y\n",
      " \n",
      "t\n",
      "h\n",
      "e\n",
      "r\n",
      "e\n",
      " \n",
      "w\n",
      "h\n",
      "a\n",
      "t\n",
      "s\n",
      " \n",
      "y\n",
      "o\n",
      "u\n",
      "r\n",
      " \n",
      "n\n",
      "a\n",
      "m\n",
      "e\n"
     ]
    }
   ],
   "source": [
    "a = input(\"Enter the string\")\n",
    "for i in a:\n",
    "    print(i)"
   ]
  },
  {
   "cell_type": "code",
   "execution_count": 10,
   "metadata": {},
   "outputs": [
    {
     "name": "stdout",
     "output_type": "stream",
     "text": [
      "[43, 23, 23, 43, 65, 76, 45, 43, 23, 54]\n",
      "43.8\n"
     ]
    }
   ],
   "source": [
    "import statistics\n",
    "list = []\n",
    "n = int(input(\"Enter the number of elements to be added in list : \"))\n",
    "for i in range(n):\n",
    "    x = int(input(\"Enter the elements : \"))\n",
    "    list.append(x)\n",
    "print(list)\n",
    "print(statistics.mean(list))\n",
    "print(statistics.median(list))\n",
    "print(statistics.mode(list))"
   ]
  },
  {
   "cell_type": "markdown",
   "metadata": {},
   "source": [
    "write a program to demonstrate list and tuple in python\n",
    "wap using a for loop that loop over a sequence\n",
    "wap using a while loop that ask the user for a number and print a count down from number to zero"
   ]
  },
  {
   "cell_type": "code",
   "execution_count": 15,
   "metadata": {},
   "outputs": [
    {
     "name": "stdout",
     "output_type": "stream",
     "text": [
      "74421\n",
      "0.02306196751513978\n",
      "0.1296540894086674\n"
     ]
    }
   ],
   "source": [
    "import random\n",
    "print(random.randint(0,100000))\n",
    "print(random.random())\n",
    "print(random.uniform(0,1))"
   ]
  },
  {
   "cell_type": "code",
   "execution_count": 37,
   "metadata": {},
   "outputs": [
    {
     "name": "stdout",
     "output_type": "stream",
     "text": [
      "6\n",
      "[2, 3, 4, 8, 5, 6, 7, 43, 5, 4, 2, 5, 1, 3, 4, 5, 4, 3, 65, 3, 3, 5, 6, 54, 3, 2, 4, 34, 56, 5, 43, 2]\n",
      "[2, 3, 4, 5, 6, 7, 43, 5, 4, 2, 5, 1, 3, 4, 5, 4, 3, 65, 3, 3, 5, 6, 54, 3, 2, 4, 34, 56, 5, 43, 2]\n",
      "[2, 3, 5, 6, 7, 43, 5, 4, 2, 5, 1, 3, 4, 5, 4, 3, 65, 3, 3, 5, 6, 54, 3, 2, 4, 34, 56, 5, 43, 2]\n",
      "2\n",
      "[2, 3, 5, 6, 7, 43, 5, 4, 2, 5, 1, 3, 4, 5, 4, 3, 65, 3, 3, 5, 6, 54, 3, 2, 4, 34, 56, 5, 43]\n",
      "[3, 5, 6, 7, 43, 5, 4, 2, 5, 1, 3, 4, 5, 4, 3, 65, 3, 3, 5, 6, 54, 3, 2, 4, 34, 56, 5, 43, 2]\n",
      "[3, 5]\n",
      "[2, 5, 7, 5, 2, 1, 4, 4, 65, 3, 6, 3, 4, 56, 43]\n",
      "3\n"
     ]
    }
   ],
   "source": [
    "# list = []\n",
    "# n = int(input(\"Enter the number of elements to be added in list : \"))\n",
    "# for i in range(n):\n",
    "#     x = int(input(\"Enter the elements : \"))\n",
    "#     list.append(x)\n",
    "# print(list)\n",
    "# list.reverse()\n",
    "# print(list)\n",
    "# list.sort()\n",
    "# print(list)\n",
    "# list.sort(reverse=True)\n",
    "# print(list)\n",
    "list1 =[2,3,4,5,6,7,43,5,4,2,5,1,3,4,5,4,3,65,3,3,5,6,54,3,2,4,34,56,5,43,2]    \n",
    "print(list1.count(3))\n",
    "list1.insert(3,8)\n",
    "print(list1)\n",
    "list1.pop(3)    #pop take index\n",
    "print(list1)\n",
    "list1.remove(4)     #remove take value\n",
    "print(list1)\n",
    "print(list1.index(5))\n",
    "print(list1[:-1])\n",
    "print(list1[1:])\n",
    "print(list1[1:3])  #from second element till third element\n",
    "print(list1[::2])\n",
    "print(list1[int(len(list1)/2)])\n",
    "\n"
   ]
  },
  {
   "cell_type": "code",
   "execution_count": 3,
   "metadata": {},
   "outputs": [
    {
     "name": "stdout",
     "output_type": "stream",
     "text": [
      "['a', 's', 'd', 'f', 'g']\n",
      "Yes fruit a is there in your list\n"
     ]
    }
   ],
   "source": [
    "list = []\n",
    "n = int(input(\"Enter the number of elements to be added in list : \"))\n",
    "for i in range(n):\n",
    "    x = input(\"Enter the elements : \")\n",
    "    list.append(x)\n",
    "print(list)\n",
    "\n",
    "z = input(\"Enter the fruit you want to search : \")\n",
    "index = list.index(z)\n",
    "if z in list:\n",
    "    print(f\"Yes fruit {z} is there in your list\")\n",
    "else:  \n",
    "    print(f\"No fruit {z} is not there in your list\")"
   ]
  },
  {
   "cell_type": "code",
   "execution_count": 4,
   "metadata": {},
   "outputs": [
    {
     "name": "stdout",
     "output_type": "stream",
     "text": [
      "['q', 'w', 'e', 'r', 't']\n",
      "No fruit d is not there in your list\n"
     ]
    }
   ],
   "source": [
    "list = []\n",
    "n = int(input(\"Enter the number of elements to be added in list : \"))\n",
    "for i in range(n):\n",
    "    x = input(\"Enter the name of fruits : \")\n",
    "    list.append(x)\n",
    "print(list)\n",
    "\n",
    "for j in list:\n",
    "    y = input(\"Name the fruit you want to search : \")\n",
    "    if y in list:\n",
    "        print(f\"Yes fruit {y} is there in your list\")\n",
    "        break\n",
    "    else:\n",
    "        print(f\"No fruit {y} is not there in your list\")\n",
    "        break\n"
   ]
  },
  {
   "cell_type": "code",
   "execution_count": 5,
   "metadata": {},
   "outputs": [
    {
     "name": "stdout",
     "output_type": "stream",
     "text": [
      "1\n",
      "4\n"
     ]
    }
   ],
   "source": [
    "tuple = (1,2,3,4,5,6,7,8,9,10)\n",
    "print(tuple.count(3))\n",
    "print(tuple.index(5))"
   ]
  },
  {
   "cell_type": "code",
   "execution_count": 7,
   "metadata": {},
   "outputs": [
    {
     "name": "stdout",
     "output_type": "stream",
     "text": [
      "5\n",
      "4\n",
      "3\n",
      "2\n",
      "1\n"
     ]
    }
   ],
   "source": [
    "user = int(input(\"Enter the number : \"))\n",
    "print(user)\n",
    "while 1:\n",
    "    user = user-1\n",
    "    if user == 0:\n",
    "        break\n",
    "    else:\n",
    "        print(user)\n",
    "    "
   ]
  },
  {
   "cell_type": "code",
   "execution_count": 10,
   "metadata": {},
   "outputs": [
    {
     "name": "stdout",
     "output_type": "stream",
     "text": [
      "9\n",
      "8\n",
      "7\n",
      "6\n",
      "5\n",
      "4\n",
      "3\n",
      "2\n",
      "1\n",
      "0\n"
     ]
    }
   ],
   "source": [
    "user = int(input(\"Enter the number : \"))\n",
    "while user>0:\n",
    "    user = user-1\n",
    "    print(user)"
   ]
  }
 ],
 "metadata": {
  "kernelspec": {
   "display_name": "Python 3",
   "language": "python",
   "name": "python3"
  },
  "language_info": {
   "codemirror_mode": {
    "name": "ipython",
    "version": 3
   },
   "file_extension": ".py",
   "mimetype": "text/x-python",
   "name": "python",
   "nbconvert_exporter": "python",
   "pygments_lexer": "ipython3",
   "version": "3.11.5"
  }
 },
 "nbformat": 4,
 "nbformat_minor": 2
}
